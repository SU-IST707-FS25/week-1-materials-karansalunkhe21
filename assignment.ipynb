{
 "cells": [
  {
   "cell_type": "markdown",
   "id": "dc887371",
   "metadata": {
    "problem_id": "ex1"
   },
   "source": [
    "<!-- @q -->\n",
    "## Problem 1 \n",
    "\n",
    "Using the data in the `2019_Yellow_Taxi_Trip_Data.csv` file, calculate summary statistics for the `fare_amount`, `tip_amount`, `tolls_amount`, and `total_amount` columns:"
   ]
  },
  {
   "cell_type": "code",
   "execution_count": 22,
   "id": "6b54e057",
   "metadata": {
    "part_id": "ex1-part1",
    "span": "ex1-part1.code",
    "student": true
   },
   "outputs": [
    {
     "data": {
      "text/html": [
       "<div>\n",
       "<style scoped>\n",
       "    .dataframe tbody tr th:only-of-type {\n",
       "        vertical-align: middle;\n",
       "    }\n",
       "\n",
       "    .dataframe tbody tr th {\n",
       "        vertical-align: top;\n",
       "    }\n",
       "\n",
       "    .dataframe thead th {\n",
       "        text-align: right;\n",
       "    }\n",
       "</style>\n",
       "<table border=\"1\" class=\"dataframe\">\n",
       "  <thead>\n",
       "    <tr style=\"text-align: right;\">\n",
       "      <th></th>\n",
       "      <th>fare_amount</th>\n",
       "      <th>tip_amount</th>\n",
       "      <th>tolls_amount</th>\n",
       "      <th>total_amount</th>\n",
       "    </tr>\n",
       "  </thead>\n",
       "  <tbody>\n",
       "    <tr>\n",
       "      <th>count</th>\n",
       "      <td>10000.000000</td>\n",
       "      <td>10000.000000</td>\n",
       "      <td>10000.000000</td>\n",
       "      <td>10000.000000</td>\n",
       "    </tr>\n",
       "    <tr>\n",
       "      <th>mean</th>\n",
       "      <td>15.106313</td>\n",
       "      <td>2.634494</td>\n",
       "      <td>0.623447</td>\n",
       "      <td>22.564659</td>\n",
       "    </tr>\n",
       "    <tr>\n",
       "      <th>std</th>\n",
       "      <td>13.954762</td>\n",
       "      <td>3.409800</td>\n",
       "      <td>6.437507</td>\n",
       "      <td>19.209255</td>\n",
       "    </tr>\n",
       "    <tr>\n",
       "      <th>min</th>\n",
       "      <td>-52.000000</td>\n",
       "      <td>0.000000</td>\n",
       "      <td>-6.120000</td>\n",
       "      <td>-65.920000</td>\n",
       "    </tr>\n",
       "    <tr>\n",
       "      <th>25%</th>\n",
       "      <td>7.000000</td>\n",
       "      <td>0.000000</td>\n",
       "      <td>0.000000</td>\n",
       "      <td>12.375000</td>\n",
       "    </tr>\n",
       "    <tr>\n",
       "      <th>50%</th>\n",
       "      <td>10.000000</td>\n",
       "      <td>2.000000</td>\n",
       "      <td>0.000000</td>\n",
       "      <td>16.300000</td>\n",
       "    </tr>\n",
       "    <tr>\n",
       "      <th>75%</th>\n",
       "      <td>16.000000</td>\n",
       "      <td>3.250000</td>\n",
       "      <td>0.000000</td>\n",
       "      <td>22.880000</td>\n",
       "    </tr>\n",
       "    <tr>\n",
       "      <th>max</th>\n",
       "      <td>176.000000</td>\n",
       "      <td>43.000000</td>\n",
       "      <td>612.000000</td>\n",
       "      <td>671.800000</td>\n",
       "    </tr>\n",
       "  </tbody>\n",
       "</table>\n",
       "</div>"
      ],
      "text/plain": [
       "        fare_amount    tip_amount  tolls_amount  total_amount\n",
       "count  10000.000000  10000.000000  10000.000000  10000.000000\n",
       "mean      15.106313      2.634494      0.623447     22.564659\n",
       "std       13.954762      3.409800      6.437507     19.209255\n",
       "min      -52.000000      0.000000     -6.120000    -65.920000\n",
       "25%        7.000000      0.000000      0.000000     12.375000\n",
       "50%       10.000000      2.000000      0.000000     16.300000\n",
       "75%       16.000000      3.250000      0.000000     22.880000\n",
       "max      176.000000     43.000000    612.000000    671.800000"
      ]
     },
     "execution_count": 22,
     "metadata": {},
     "output_type": "execute_result"
    }
   ],
   "source": [
    "# Your code here\n",
    "import pandas as pd\n",
    "\n",
    "df= pd.read_csv(\"data/2019_Yellow_Taxi_Trip_Data.csv\")\n",
    "df[['fare_amount', 'tip_amount', 'tolls_amount', 'total_amount']].describe()\n"
   ]
  },
  {
   "cell_type": "markdown",
   "id": "074b0a7e",
   "metadata": {
    "problem_id": "ex2"
   },
   "source": [
    "<!-- @q -->\n",
    "## Problem 2\n",
    "\n",
    "Isolate the `fare_amount`, `tip_amount`, `tolls_amount`, and `total_amount` for the longest trip by distance (`trip_distance`):"
   ]
  },
  {
   "cell_type": "code",
   "execution_count": 24,
   "id": "fe9dd73b",
   "metadata": {
    "part_id": "ex2-part1",
    "span": "ex2-part1.code",
    "student": true
   },
   "outputs": [
    {
     "data": {
      "text/html": [
       "<div>\n",
       "<style scoped>\n",
       "    .dataframe tbody tr th:only-of-type {\n",
       "        vertical-align: middle;\n",
       "    }\n",
       "\n",
       "    .dataframe tbody tr th {\n",
       "        vertical-align: top;\n",
       "    }\n",
       "\n",
       "    .dataframe thead th {\n",
       "        text-align: right;\n",
       "    }\n",
       "</style>\n",
       "<table border=\"1\" class=\"dataframe\">\n",
       "  <thead>\n",
       "    <tr style=\"text-align: right;\">\n",
       "      <th></th>\n",
       "      <th>fare_amount</th>\n",
       "      <th>tip_amount</th>\n",
       "      <th>tolls_amount</th>\n",
       "      <th>total_amount</th>\n",
       "    </tr>\n",
       "  </thead>\n",
       "  <tbody>\n",
       "    <tr>\n",
       "      <th>8338</th>\n",
       "      <td>176.0</td>\n",
       "      <td>18.29</td>\n",
       "      <td>6.12</td>\n",
       "      <td>201.21</td>\n",
       "    </tr>\n",
       "  </tbody>\n",
       "</table>\n",
       "</div>"
      ],
      "text/plain": [
       "      fare_amount  tip_amount  tolls_amount  total_amount\n",
       "8338        176.0       18.29          6.12        201.21"
      ]
     },
     "execution_count": 24,
     "metadata": {},
     "output_type": "execute_result"
    }
   ],
   "source": [
    "# Your code here\n",
    "trip = df.sort_values('trip_distance', ascending=False).head(1)[\n",
    "    ['fare_amount', 'tip_amount', 'tolls_amount', 'total_amount']\n",
    "]\n",
    "trip"
   ]
  },
  {
   "cell_type": "markdown",
   "id": "2f864b6c",
   "metadata": {
    "problem_id": "ex3"
   },
   "source": [
    "<!-- @q -->\n",
    "## Problem 3 \n",
    "\n",
    "Read in the meteorite data from the `Meteorite_Landings.csv` file, rename the `mass (g)` column to `mass`, and drop all the latitude and longitude columns. Sort the result by mass in descending order."
   ]
  },
  {
   "cell_type": "code",
   "execution_count": 25,
   "id": "88c65a35",
   "metadata": {
    "part_id": "ex3-part1",
    "span": "ex3-part1.code",
    "student": true
   },
   "outputs": [
    {
     "data": {
      "text/html": [
       "<div>\n",
       "<style scoped>\n",
       "    .dataframe tbody tr th:only-of-type {\n",
       "        vertical-align: middle;\n",
       "    }\n",
       "\n",
       "    .dataframe tbody tr th {\n",
       "        vertical-align: top;\n",
       "    }\n",
       "\n",
       "    .dataframe thead th {\n",
       "        text-align: right;\n",
       "    }\n",
       "</style>\n",
       "<table border=\"1\" class=\"dataframe\">\n",
       "  <thead>\n",
       "    <tr style=\"text-align: right;\">\n",
       "      <th></th>\n",
       "      <th>name</th>\n",
       "      <th>id</th>\n",
       "      <th>nametype</th>\n",
       "      <th>recclass</th>\n",
       "      <th>mass</th>\n",
       "      <th>fall</th>\n",
       "      <th>year</th>\n",
       "    </tr>\n",
       "  </thead>\n",
       "  <tbody>\n",
       "    <tr>\n",
       "      <th>16392</th>\n",
       "      <td>Hoba</td>\n",
       "      <td>11890</td>\n",
       "      <td>Valid</td>\n",
       "      <td>Iron, IVB</td>\n",
       "      <td>60000000.0</td>\n",
       "      <td>Found</td>\n",
       "      <td>01/01/1920 12:00:00 AM</td>\n",
       "    </tr>\n",
       "    <tr>\n",
       "      <th>5373</th>\n",
       "      <td>Cape York</td>\n",
       "      <td>5262</td>\n",
       "      <td>Valid</td>\n",
       "      <td>Iron, IIIAB</td>\n",
       "      <td>58200000.0</td>\n",
       "      <td>Found</td>\n",
       "      <td>01/01/1818 12:00:00 AM</td>\n",
       "    </tr>\n",
       "    <tr>\n",
       "      <th>5365</th>\n",
       "      <td>Campo del Cielo</td>\n",
       "      <td>5247</td>\n",
       "      <td>Valid</td>\n",
       "      <td>Iron, IAB-MG</td>\n",
       "      <td>50000000.0</td>\n",
       "      <td>Found</td>\n",
       "      <td>12/22/1575 12:00:00 AM</td>\n",
       "    </tr>\n",
       "    <tr>\n",
       "      <th>5370</th>\n",
       "      <td>Canyon Diablo</td>\n",
       "      <td>5257</td>\n",
       "      <td>Valid</td>\n",
       "      <td>Iron, IAB-MG</td>\n",
       "      <td>30000000.0</td>\n",
       "      <td>Found</td>\n",
       "      <td>01/01/1891 12:00:00 AM</td>\n",
       "    </tr>\n",
       "    <tr>\n",
       "      <th>3455</th>\n",
       "      <td>Armanty</td>\n",
       "      <td>2335</td>\n",
       "      <td>Valid</td>\n",
       "      <td>Iron, IIIE</td>\n",
       "      <td>28000000.0</td>\n",
       "      <td>Found</td>\n",
       "      <td>01/01/1898 12:00:00 AM</td>\n",
       "    </tr>\n",
       "    <tr>\n",
       "      <th>...</th>\n",
       "      <td>...</td>\n",
       "      <td>...</td>\n",
       "      <td>...</td>\n",
       "      <td>...</td>\n",
       "      <td>...</td>\n",
       "      <td>...</td>\n",
       "      <td>...</td>\n",
       "    </tr>\n",
       "    <tr>\n",
       "      <th>38282</th>\n",
       "      <td>Wei-hui-fu (a)</td>\n",
       "      <td>24231</td>\n",
       "      <td>Valid</td>\n",
       "      <td>Iron</td>\n",
       "      <td>NaN</td>\n",
       "      <td>Found</td>\n",
       "      <td>01/01/1931 12:00:00 AM</td>\n",
       "    </tr>\n",
       "    <tr>\n",
       "      <th>38283</th>\n",
       "      <td>Wei-hui-fu (b)</td>\n",
       "      <td>24232</td>\n",
       "      <td>Valid</td>\n",
       "      <td>Iron</td>\n",
       "      <td>NaN</td>\n",
       "      <td>Found</td>\n",
       "      <td>01/01/1931 12:00:00 AM</td>\n",
       "    </tr>\n",
       "    <tr>\n",
       "      <th>38285</th>\n",
       "      <td>Weiyuan</td>\n",
       "      <td>24233</td>\n",
       "      <td>Valid</td>\n",
       "      <td>Mesosiderite</td>\n",
       "      <td>NaN</td>\n",
       "      <td>Found</td>\n",
       "      <td>01/01/1978 12:00:00 AM</td>\n",
       "    </tr>\n",
       "    <tr>\n",
       "      <th>41472</th>\n",
       "      <td>Yamato 792768</td>\n",
       "      <td>28117</td>\n",
       "      <td>Valid</td>\n",
       "      <td>CM2</td>\n",
       "      <td>NaN</td>\n",
       "      <td>Found</td>\n",
       "      <td>01/01/1979 12:00:00 AM</td>\n",
       "    </tr>\n",
       "    <tr>\n",
       "      <th>45698</th>\n",
       "      <td>Zapata County</td>\n",
       "      <td>30393</td>\n",
       "      <td>Valid</td>\n",
       "      <td>Iron</td>\n",
       "      <td>NaN</td>\n",
       "      <td>Found</td>\n",
       "      <td>01/01/1930 12:00:00 AM</td>\n",
       "    </tr>\n",
       "  </tbody>\n",
       "</table>\n",
       "<p>45716 rows × 7 columns</p>\n",
       "</div>"
      ],
      "text/plain": [
       "                  name     id nametype      recclass        mass   fall  \\\n",
       "16392             Hoba  11890    Valid     Iron, IVB  60000000.0  Found   \n",
       "5373         Cape York   5262    Valid   Iron, IIIAB  58200000.0  Found   \n",
       "5365   Campo del Cielo   5247    Valid  Iron, IAB-MG  50000000.0  Found   \n",
       "5370     Canyon Diablo   5257    Valid  Iron, IAB-MG  30000000.0  Found   \n",
       "3455           Armanty   2335    Valid    Iron, IIIE  28000000.0  Found   \n",
       "...                ...    ...      ...           ...         ...    ...   \n",
       "38282   Wei-hui-fu (a)  24231    Valid          Iron         NaN  Found   \n",
       "38283   Wei-hui-fu (b)  24232    Valid          Iron         NaN  Found   \n",
       "38285          Weiyuan  24233    Valid  Mesosiderite         NaN  Found   \n",
       "41472    Yamato 792768  28117    Valid           CM2         NaN  Found   \n",
       "45698    Zapata County  30393    Valid          Iron         NaN  Found   \n",
       "\n",
       "                         year  \n",
       "16392  01/01/1920 12:00:00 AM  \n",
       "5373   01/01/1818 12:00:00 AM  \n",
       "5365   12/22/1575 12:00:00 AM  \n",
       "5370   01/01/1891 12:00:00 AM  \n",
       "3455   01/01/1898 12:00:00 AM  \n",
       "...                       ...  \n",
       "38282  01/01/1931 12:00:00 AM  \n",
       "38283  01/01/1931 12:00:00 AM  \n",
       "38285  01/01/1978 12:00:00 AM  \n",
       "41472  01/01/1979 12:00:00 AM  \n",
       "45698  01/01/1930 12:00:00 AM  \n",
       "\n",
       "[45716 rows x 7 columns]"
      ]
     },
     "execution_count": 25,
     "metadata": {},
     "output_type": "execute_result"
    }
   ],
   "source": [
    "# Your code here\n",
    "df = pd.read_csv(\"data/Meteorite_Landings.csv\")\n",
    "\n",
    "df= df.rename(columns={'mass (g)': 'mass'}).drop(['reclat','reclong','GeoLocation'],axis=1).sort_values('mass',ascending=False)\n",
    "\n",
    "df\n",
    "\n"
   ]
  },
  {
   "cell_type": "markdown",
   "id": "b04126be",
   "metadata": {
    "problem_id": "ex4"
   },
   "source": [
    "<!-- @q -->\n",
    "## Problem 4\n",
    "\n",
    "Using the meteorite data from the `Meteorite_Landings.csv` file, update the `year` column to only contain the year, convert it to a numeric data type, and create a new column indicating whether the meteorite was observed falling before 1970. Set the index to the `id` column and extract all the rows with IDs between 10,036 and 10,040 (inclusive) with `loc[]`.\n",
    "\n",
    "**Hint 1**: Use `year.str.slice()` to grab a substring.\n",
    "\n",
    "**Hint 2**: Make sure to sort the index before using `loc[]` to select the range."
   ]
  },
  {
   "cell_type": "code",
   "execution_count": 26,
   "id": "815bb531",
   "metadata": {
    "part_id": "ex4-part1",
    "span": "ex4-part1.code",
    "student": true
   },
   "outputs": [
    {
     "data": {
      "text/html": [
       "<div>\n",
       "<style scoped>\n",
       "    .dataframe tbody tr th:only-of-type {\n",
       "        vertical-align: middle;\n",
       "    }\n",
       "\n",
       "    .dataframe tbody tr th {\n",
       "        vertical-align: top;\n",
       "    }\n",
       "\n",
       "    .dataframe thead th {\n",
       "        text-align: right;\n",
       "    }\n",
       "</style>\n",
       "<table border=\"1\" class=\"dataframe\">\n",
       "  <thead>\n",
       "    <tr style=\"text-align: right;\">\n",
       "      <th></th>\n",
       "      <th>name</th>\n",
       "      <th>nametype</th>\n",
       "      <th>recclass</th>\n",
       "      <th>mass (g)</th>\n",
       "      <th>fall</th>\n",
       "      <th>year</th>\n",
       "      <th>reclat</th>\n",
       "      <th>reclong</th>\n",
       "      <th>GeoLocation</th>\n",
       "      <th>before_1970</th>\n",
       "    </tr>\n",
       "    <tr>\n",
       "      <th>id</th>\n",
       "      <th></th>\n",
       "      <th></th>\n",
       "      <th></th>\n",
       "      <th></th>\n",
       "      <th></th>\n",
       "      <th></th>\n",
       "      <th></th>\n",
       "      <th></th>\n",
       "      <th></th>\n",
       "      <th></th>\n",
       "    </tr>\n",
       "  </thead>\n",
       "  <tbody>\n",
       "    <tr>\n",
       "      <th>10036</th>\n",
       "      <td>Enigma</td>\n",
       "      <td>Valid</td>\n",
       "      <td>H4</td>\n",
       "      <td>94.0</td>\n",
       "      <td>Found</td>\n",
       "      <td>1967.0</td>\n",
       "      <td>31.33333</td>\n",
       "      <td>-82.31667</td>\n",
       "      <td>(31.33333, -82.31667)</td>\n",
       "      <td>True</td>\n",
       "    </tr>\n",
       "    <tr>\n",
       "      <th>10037</th>\n",
       "      <td>Enon</td>\n",
       "      <td>Valid</td>\n",
       "      <td>Iron, ungrouped</td>\n",
       "      <td>763.0</td>\n",
       "      <td>Found</td>\n",
       "      <td>1883.0</td>\n",
       "      <td>39.86667</td>\n",
       "      <td>-83.95000</td>\n",
       "      <td>(39.86667, -83.95)</td>\n",
       "      <td>True</td>\n",
       "    </tr>\n",
       "    <tr>\n",
       "      <th>10038</th>\n",
       "      <td>Enshi</td>\n",
       "      <td>Valid</td>\n",
       "      <td>H5</td>\n",
       "      <td>8000.0</td>\n",
       "      <td>Fell</td>\n",
       "      <td>1974.0</td>\n",
       "      <td>30.30000</td>\n",
       "      <td>109.50000</td>\n",
       "      <td>(30.3, 109.5)</td>\n",
       "      <td>False</td>\n",
       "    </tr>\n",
       "    <tr>\n",
       "      <th>10039</th>\n",
       "      <td>Ensisheim</td>\n",
       "      <td>Valid</td>\n",
       "      <td>LL6</td>\n",
       "      <td>127000.0</td>\n",
       "      <td>Fell</td>\n",
       "      <td>1491.0</td>\n",
       "      <td>47.86667</td>\n",
       "      <td>7.35000</td>\n",
       "      <td>(47.86667, 7.35)</td>\n",
       "      <td>True</td>\n",
       "    </tr>\n",
       "  </tbody>\n",
       "</table>\n",
       "</div>"
      ],
      "text/plain": [
       "            name nametype         recclass  mass (g)   fall    year    reclat  \\\n",
       "id                                                                              \n",
       "10036     Enigma    Valid               H4      94.0  Found  1967.0  31.33333   \n",
       "10037       Enon    Valid  Iron, ungrouped     763.0  Found  1883.0  39.86667   \n",
       "10038      Enshi    Valid               H5    8000.0   Fell  1974.0  30.30000   \n",
       "10039  Ensisheim    Valid              LL6  127000.0   Fell  1491.0  47.86667   \n",
       "\n",
       "         reclong            GeoLocation  before_1970  \n",
       "id                                                    \n",
       "10036  -82.31667  (31.33333, -82.31667)         True  \n",
       "10037  -83.95000     (39.86667, -83.95)         True  \n",
       "10038  109.50000          (30.3, 109.5)        False  \n",
       "10039    7.35000       (47.86667, 7.35)         True  "
      ]
     },
     "execution_count": 26,
     "metadata": {},
     "output_type": "execute_result"
    }
   ],
   "source": [
    "# Your code here\n",
    "import pandas as pd\n",
    "df = pd.read_csv(\"data/Meteorite_Landings.csv\")\n",
    "df[\"year\"] = df[\"year\"].astype(str).str.slice(6, 10)\n",
    "df[\"year\"] =pd.to_numeric(df[\"year\"])\n",
    "df[\"before_1970\"] = df[\"year\"] < 1970\n",
    "df= df.set_index(\"id\")\n",
    "df= df.sort_index()\n",
    "set = df.loc[10036:10040]\n",
    "set"
   ]
  },
  {
   "cell_type": "markdown",
   "id": "b08b3aeb",
   "metadata": {
    "part_id": "ex4-part2"
   },
   "source": [
    "**BONUS**: There's a data entry error in the `year` column. Can you find it?"
   ]
  },
  {
   "cell_type": "code",
   "execution_count": 6,
   "id": "2836a110",
   "metadata": {
    "additional_cells_expected": true,
    "part_id": "ex4-part2",
    "span": "ex4-part2.code",
    "student": true
   },
   "outputs": [],
   "source": [
    "# Your code here\n",
    "import pandas as pd\n",
    "df = pd.read_csv(\"data/Meteorite_Landings.csv\")\n"
   ]
  },
  {
   "cell_type": "markdown",
   "id": "b0ab2e51-a49d-486e-ad09-aaa39f0d4358",
   "metadata": {
    "slideshow": {
     "slide_type": "fragment"
    },
    "tags": []
   },
   "source": [
    "There's a meteorite that was reportedly found in the future:"
   ]
  },
  {
   "cell_type": "code",
   "execution_count": 7,
   "id": "a58fc7c5",
   "metadata": {
    "additional_cells_expected": true,
    "part_id": "ex4-part2",
    "span": "ex4-part2.code",
    "student": true
   },
   "outputs": [
    {
     "name": "stderr",
     "output_type": "stream",
     "text": [
      "/tmp/ipykernel_2320/1641576758.py:3: UserWarning: Could not infer format, so each element will be parsed individually, falling back to `dateutil`. To ensure parsing is consistent and as-expected, please specify a format.\n",
      "  df[\"year\"] = pd.to_datetime(df[\"year\"], errors=\"coerce\").dt.year\n"
     ]
    },
    {
     "data": {
      "text/html": [
       "<div>\n",
       "<style scoped>\n",
       "    .dataframe tbody tr th:only-of-type {\n",
       "        vertical-align: middle;\n",
       "    }\n",
       "\n",
       "    .dataframe tbody tr th {\n",
       "        vertical-align: top;\n",
       "    }\n",
       "\n",
       "    .dataframe thead th {\n",
       "        text-align: right;\n",
       "    }\n",
       "</style>\n",
       "<table border=\"1\" class=\"dataframe\">\n",
       "  <thead>\n",
       "    <tr style=\"text-align: right;\">\n",
       "      <th></th>\n",
       "      <th>name</th>\n",
       "      <th>id</th>\n",
       "      <th>nametype</th>\n",
       "      <th>recclass</th>\n",
       "      <th>mass (g)</th>\n",
       "      <th>fall</th>\n",
       "      <th>year</th>\n",
       "      <th>reclat</th>\n",
       "      <th>reclong</th>\n",
       "      <th>GeoLocation</th>\n",
       "    </tr>\n",
       "  </thead>\n",
       "  <tbody>\n",
       "    <tr>\n",
       "      <th>30682</th>\n",
       "      <td>Northwest Africa 7701</td>\n",
       "      <td>57150</td>\n",
       "      <td>Valid</td>\n",
       "      <td>CK6</td>\n",
       "      <td>55.0</td>\n",
       "      <td>Found</td>\n",
       "      <td>2101.0</td>\n",
       "      <td>0.0</td>\n",
       "      <td>0.0</td>\n",
       "      <td>(0.0, 0.0)</td>\n",
       "    </tr>\n",
       "  </tbody>\n",
       "</table>\n",
       "</div>"
      ],
      "text/plain": [
       "                        name     id nametype recclass  mass (g)   fall  \\\n",
       "30682  Northwest Africa 7701  57150    Valid      CK6      55.0  Found   \n",
       "\n",
       "         year  reclat  reclong GeoLocation  \n",
       "30682  2101.0     0.0      0.0  (0.0, 0.0)  "
      ]
     },
     "execution_count": 7,
     "metadata": {},
     "output_type": "execute_result"
    }
   ],
   "source": [
    "\n",
    "import pandas as pd\n",
    "df = pd.read_csv(\"data/Meteorite_Landings.csv\")\n",
    "df[\"year\"] = pd.to_datetime(df[\"year\"], errors=\"coerce\").dt.year\n",
    "import datetime\n",
    "current_year = datetime.datetime.now().year\n",
    "future_entries = df[df[\"year\"] > current_year]\n",
    "future_entries\n",
    "\n"
   ]
  },
  {
   "cell_type": "markdown",
   "id": "10b3e913-e6d0-4b61-928e-da3eca59b08d",
   "metadata": {},
   "source": [
    "_This meteorite actually was found in 2010 (more information [here](https://www.lpi.usra.edu/meteor/metbull.php?code=57150))._"
   ]
  },
  {
   "cell_type": "markdown",
   "id": "54b9ba34",
   "metadata": {
    "problem_id": "ex5"
   },
   "source": [
    "<!-- @q -->\n",
    "## Problem 5\n",
    "\n",
    "Using the taxi trip data in the `2019_Yellow_Taxi_Trip_Data.csv` file, resample the data to an hourly frequency based on the dropoff time. Calculate the total `trip_distance`, `fare_amount`, `tolls_amount`, and `tip_amount`, then find the 5 hours with the most tips."
   ]
  },
  {
   "cell_type": "code",
   "execution_count": 8,
   "id": "bb9b3d0a",
   "metadata": {
    "part_id": "ex5-part1",
    "span": "ex5-part1.code",
    "student": true
   },
   "outputs": [
    {
     "name": "stderr",
     "output_type": "stream",
     "text": [
      "/tmp/ipykernel_2320/1166068158.py:3: FutureWarning: 'H' is deprecated and will be removed in a future version, please use 'h' instead.\n",
      "  df.resample('H')[['trip_distance', 'fare_amount', 'tolls_amount', 'tip_amount']].sum().sort_values('tip_amount',ascending=False).head(5)\n"
     ]
    },
    {
     "data": {
      "text/html": [
       "<div>\n",
       "<style scoped>\n",
       "    .dataframe tbody tr th:only-of-type {\n",
       "        vertical-align: middle;\n",
       "    }\n",
       "\n",
       "    .dataframe tbody tr th {\n",
       "        vertical-align: top;\n",
       "    }\n",
       "\n",
       "    .dataframe thead th {\n",
       "        text-align: right;\n",
       "    }\n",
       "</style>\n",
       "<table border=\"1\" class=\"dataframe\">\n",
       "  <thead>\n",
       "    <tr style=\"text-align: right;\">\n",
       "      <th></th>\n",
       "      <th>trip_distance</th>\n",
       "      <th>fare_amount</th>\n",
       "      <th>tolls_amount</th>\n",
       "      <th>tip_amount</th>\n",
       "    </tr>\n",
       "    <tr>\n",
       "      <th>tpep_dropoff_datetime</th>\n",
       "      <th></th>\n",
       "      <th></th>\n",
       "      <th></th>\n",
       "      <th></th>\n",
       "    </tr>\n",
       "  </thead>\n",
       "  <tbody>\n",
       "    <tr>\n",
       "      <th>2019-10-23 16:00:00</th>\n",
       "      <td>10676.95</td>\n",
       "      <td>67797.76</td>\n",
       "      <td>699.04</td>\n",
       "      <td>12228.64</td>\n",
       "    </tr>\n",
       "    <tr>\n",
       "      <th>2019-10-23 17:00:00</th>\n",
       "      <td>16052.83</td>\n",
       "      <td>70131.91</td>\n",
       "      <td>4044.04</td>\n",
       "      <td>12044.03</td>\n",
       "    </tr>\n",
       "    <tr>\n",
       "      <th>2019-10-23 18:00:00</th>\n",
       "      <td>3104.56</td>\n",
       "      <td>11565.56</td>\n",
       "      <td>1454.67</td>\n",
       "      <td>1907.64</td>\n",
       "    </tr>\n",
       "    <tr>\n",
       "      <th>2019-10-23 15:00:00</th>\n",
       "      <td>14.34</td>\n",
       "      <td>213.50</td>\n",
       "      <td>0.00</td>\n",
       "      <td>51.75</td>\n",
       "    </tr>\n",
       "    <tr>\n",
       "      <th>2019-10-23 19:00:00</th>\n",
       "      <td>98.59</td>\n",
       "      <td>268.00</td>\n",
       "      <td>24.48</td>\n",
       "      <td>25.74</td>\n",
       "    </tr>\n",
       "  </tbody>\n",
       "</table>\n",
       "</div>"
      ],
      "text/plain": [
       "                       trip_distance  fare_amount  tolls_amount  tip_amount\n",
       "tpep_dropoff_datetime                                                      \n",
       "2019-10-23 16:00:00         10676.95     67797.76        699.04    12228.64\n",
       "2019-10-23 17:00:00         16052.83     70131.91       4044.04    12044.03\n",
       "2019-10-23 18:00:00          3104.56     11565.56       1454.67     1907.64\n",
       "2019-10-23 15:00:00            14.34       213.50          0.00       51.75\n",
       "2019-10-23 19:00:00            98.59       268.00         24.48       25.74"
      ]
     },
     "execution_count": 8,
     "metadata": {},
     "output_type": "execute_result"
    }
   ],
   "source": [
    "# Your code here\n",
    "df= pd.read_csv(\"data/2019_Yellow_Taxi_Trip_Data.csv\", parse_dates=True, index_col= 'tpep_dropoff_datetime')\n",
    "df.resample('H')[['trip_distance', 'fare_amount', 'tolls_amount', 'tip_amount']].sum().sort_values('tip_amount',ascending=False).head(5)\n"
   ]
  },
  {
   "cell_type": "markdown",
   "id": "7a62e834",
   "metadata": {
    "problem_id": "ex6"
   },
   "source": [
    "<!-- @q -->\n",
    "## Problem 6\n",
    "\n",
    "Using the TSA traveler throughput data in the `tsa_melted_holiday_travel.csv` file, create box plots for traveler throughput for each year in the data. Hint: Pass `kind='box'` into the `plot()` method to generate box plots."
   ]
  },
  {
   "cell_type": "code",
   "execution_count": 9,
   "id": "0fc05a66",
   "metadata": {
    "part_id": "ex6-part1",
    "span": "ex6-part1.code",
    "student": true
   },
   "outputs": [
    {
     "data": {
      "image/png": "[encoded data removed]",
      "text/plain": [
       "<Figure size 640x480 with 1 Axes>"
      ]
     },
     "metadata": {},
     "output_type": "display_data"
    }
   ],
   "source": [
    "import pandas as pd\n",
    "import seaborn as sns\n",
    "import matplotlib.pyplot as plt\n",
    "df = pd.read_csv(\"data/tsa_melted_holiday_travel.csv\")\n",
    "sns.boxplot(data=df, x='year', y='travelers')\n",
    "plt.xlabel('Year')\n",
    "plt.ylabel('Travelers')\n",
    "\n",
    "plt.show()\n",
    "\n"
   ]
  },
  {
   "cell_type": "markdown",
   "id": "9efbc536",
   "metadata": {
    "problem_id": "ex7"
   },
   "source": [
    "<!-- @q -->\n",
    "## Problem 7\n",
    "Using the TSA traveler throughput data in the `tsa_melted_holiday_travel.csv` file, create a heatmap that shows the 2019 TSA median traveler throughput by day of week and month."
   ]
  },
  {
   "cell_type": "code",
   "execution_count": null,
   "id": "3f55a24b",
   "metadata": {},
   "outputs": [
    {
     "name": "stdout",
     "output_type": "stream",
     "text": [
      "<class 'pandas.core.frame.DataFrame'>\n",
      "RangeIndex: 864 entries, 0 to 863\n",
      "Data columns (total 4 columns):\n",
      " #   Column     Non-Null Count  Dtype         \n",
      "---  ------     --------------  -----         \n",
      " 0   date       864 non-null    datetime64[ns]\n",
      " 1   year       864 non-null    int64         \n",
      " 2   travelers  864 non-null    float64       \n",
      " 3   holiday    54 non-null     object        \n",
      "dtypes: datetime64[ns](1), float64(1), int64(1), object(1)\n",
      "memory usage: 27.1+ KB\n"
     ]
    },
    {
     "data": {
      "text/plain": [
       "Text(0.5, 1.0, '2019 TSA Median Traveler Throughput')"
      ]
     },
     "execution_count": 30,
     "metadata": {},
     "output_type": "execute_result"
    },
    {
     "data": {
      "image/png": "[encoded data removed]",
      "text/plain": [
       "<Figure size 640x480 with 2 Axes>"
      ]
     },
     "metadata": {},
     "output_type": "display_data"
    }
   ],
   "source": [
    "import pandas as pd\n",
    "import seaborn as sns\n",
    "import matplotlib.pyplot as plt\n",
    "import calendar\n",
    "\n",
    "df.info() \n",
    "\n",
    "df = pd.read_csv(\"data/tsa_melted_holiday_travel.csv\")\n",
    "df['date'] = pd.to_datetime(df['date'])\n",
    "\n",
    "df_2019 = df[df['date'].dt.year == 2019].copy()\n",
    "\n",
    "df_2019['Month'] = df_2019['date'].dt.month_name()\n",
    "df_2019['Day of Week'] = df_2019['date'].dt.day_name()\n",
    "\n",
    "heatmap_data = pd.pivot_table(\n",
    "    df_2019,\n",
    "    values='travelers',  \n",
    "    index='Day of Week',  \n",
    "    columns='Month',      \n",
    "    aggfunc='median'      \n",
    ")\n",
    "ax = sns.heatmap(data= heatmap_data / 1e6, annot=True, fmt='.1f', cmap='Greens')\n",
    "ax.set_xticklabels(calendar.month_abbr[1:])\n",
    "ax.set_yticklabels(calendar.day_abbr, rotation=0)\n",
    "ax.set_title('2019 TSA Median Traveler ')\n",
    "\n"
   ]
  }
 ],
 "metadata": {
  "kernelspec": {
   "display_name": "Python 3",
   "language": "python",
   "name": "python3"
  },
  "language_info": {
   "codemirror_mode": {
    "name": "ipython",
    "version": 3
   },
   "file_extension": ".py",
   "mimetype": "text/x-python",
   "name": "python",
   "nbconvert_exporter": "python",
   "pygments_lexer": "ipython3",
   "version": "3.12.1"
  }
 },
 "nbformat": 4,
 "nbformat_minor": 5
}
